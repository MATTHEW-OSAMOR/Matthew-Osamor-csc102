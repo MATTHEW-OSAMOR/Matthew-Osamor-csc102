{
 "cells": [
  {
   "cell_type": "markdown",
   "metadata": {},
   "source": [
    " OSAMOR MATTHEW "
   ]
  },
  {
   "cell_type": "markdown",
   "metadata": {},
   "source": [
    "## EXERCISE 1"
   ]
  },
  {
   "cell_type": "code",
   "execution_count": null,
   "metadata": {},
   "outputs": [],
   "source": [
    "#The output pattern to be generated is\n",
    "#1\n",
    "#1 2\n",
    "#1 2 3\n",
    "#1 2 3 4\n",
    "#1 2 3 4 5\n",
    "num = int(input(\"Enter a number to manufacture a pattern = \"))\n",
    "for x in range(1,num + 1):\n",
    "    for y in range(1,x +1):\n",
    "        print(y, end = \" \")\n",
    "        print()"
   ]
  },
  {
   "cell_type": "markdown",
   "metadata": {},
   "source": [
    "## EXERCISE 2"
   ]
  },
  {
   "cell_type": "code",
   "execution_count": 4,
   "metadata": {},
   "outputs": [
    {
     "name": "stdout",
     "output_type": "stream",
     "text": [
      "2 is a prime number\n",
      "3 is a prime number\n",
      "5 is a prime number\n",
      "7 is a prime number\n",
      "11 is a prime number\n",
      "13 is a prime number\n",
      "17 is a prime number\n",
      "19 is a prime number\n",
      "23 is a prime number\n",
      "29 is a prime number\n",
      "31 is a prime number\n",
      "37 is a prime number\n",
      "41 is a prime number\n",
      "43 is a prime number\n",
      "47 is a prime number\n",
      "sayonara!!!!\n"
     ]
    }
   ],
   "source": [
    "#Use of nested loops to find the prime numbers between 2 to 50\n",
    "num = 2\n",
    "for x in range(2,50):\n",
    "    y= 2\n",
    "    while ( y <= (x/2)):\n",
    "        if (x % y == 0): #factor found \n",
    "            break #break out of while loop\n",
    "        y += 1\n",
    "    if ( y > x/y) : #no factor found \n",
    "        print ( x, \"is a prime number\" )\n",
    "print (\"sayonara!!!!\")        "
   ]
  },
  {
   "cell_type": "markdown",
   "metadata": {},
   "source": [
    "## EXERCISE 3"
   ]
  },
  {
   "cell_type": "code",
   "execution_count": 9,
   "metadata": {},
   "outputs": [
    {
     "name": "stdout",
     "output_type": "stream",
     "text": [
      "Number boyy!!!99\n",
      "factorial of 99 is 933262154439441526816992388562667004907159682643816214685929638952175999932299156089414639761565182862536979208272237582511852109168640000000000000000000000\n"
     ]
    }
   ],
   "source": [
    "#The following program uses a for loop nested inside an if..else \n",
    "#block to calculate the factorial of a given number \n",
    "num = int(input(\"Number boyy!!!\"))\n",
    "fact = 1\n",
    "#check if the number is negative, positive or zero \n",
    "if num < 0:\n",
    "    print(\"Sorry blud, the factorial ting does not exist for negative numbers\")\n",
    "elif num == 0:\n",
    "    print(\"The factorial of 0 is 1\")\n",
    "    \n",
    "else:\n",
    "    for x in range(1, num + 1):\n",
    "        fact = fact * x\n",
    "    print(\"factorial of\", num,\"is\", fact)    "
   ]
  },
  {
   "cell_type": "markdown",
   "metadata": {},
   "source": [
    "## EXERCISE 4\n"
   ]
  },
  {
   "cell_type": "code",
   "execution_count": 10,
   "metadata": {},
   "outputs": [
    {
     "name": "stdout",
     "output_type": "stream",
     "text": [
      "Enter the number to be checked cuz!!: 0\n",
      "Entered number is <= 1, Are you dumb blud?, DO IT AGAIN!!!!! \n"
     ]
    }
   ],
   "source": [
    "#Write a Python program to check if a given number is prime or not.\n",
    "num = int(input(\"Enter the number to be checked cuz!!: \"))\n",
    "flag = 0 #presume num is a prime number\n",
    "if num > 1 :\n",
    "    for x in range(2, int(num / 2)):\n",
    "        if (num % x == 0):\n",
    "            flag = 1 #num is a not prime number \n",
    "            break #no need to check any further \n",
    "    if flag == 1:\n",
    "        print(num ,\",Its not a prime number cuz!!\")\n",
    "    else:\n",
    "        print (num,\"Is a prime number\")\n",
    "else :\n",
    "    print(\"Entered number is <= 1, Are you dumb blud?, DO IT AGAIN!!!!! \")"
   ]
  },
  {
   "cell_type": "code",
   "execution_count": null,
   "metadata": {},
   "outputs": [],
   "source": []
  }
 ],
 "metadata": {
  "kernelspec": {
   "display_name": "Python 3",
   "language": "python",
   "name": "python3"
  },
  "language_info": {
   "codemirror_mode": {
    "name": "ipython",
    "version": 3
   },
   "file_extension": ".py",
   "mimetype": "text/x-python",
   "name": "python",
   "nbconvert_exporter": "python",
   "pygments_lexer": "ipython3",
   "version": "3.8.3"
  }
 },
 "nbformat": 4,
 "nbformat_minor": 4
}
