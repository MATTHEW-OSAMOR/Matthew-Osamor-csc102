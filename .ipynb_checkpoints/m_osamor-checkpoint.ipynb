{
 "cells": [
  {
   "cell_type": "markdown",
   "metadata": {},
   "source": [
    "### NAME : OSAMOR MATTHEW\n",
    "### MATRIC NO:21120612573\n",
    "\n"
   ]
  },
  {
   "cell_type": "markdown",
   "metadata": {},
   "source": [
    "### QUESTION 1"
   ]
  },
  {
   "cell_type": "markdown",
   "metadata": {},
   "source": [
    "## PSEUDOCODE\n"
   ]
  },
  {
   "cell_type": "code",
   "execution_count": null,
   "metadata": {},
   "outputs": [],
   "source": [
    "## START\"Welcome to the breath of Naija\"\n",
    "# INPUT \"what would you like to buy?\"\n",
    "# PROCCESS\"shows the food menu and prices\"\n",
    "# IF price< 10000\n",
    "# PRINT \"Discount of 10% awarded\"\n",
    "# ELIF price> 10000 & < 15000\n",
    "# PRINT \"15% discount awarded\"\n",
    "# ELIF Price>15000\n",
    "# PRINT \"25% Discount awarded\"\n",
    "# THEN \n",
    "# INPUT \"Would that be all?\n",
    "  #             Y/N\"\n",
    "  # IF Y THEN \n",
    "# END\n",
    "# ELSE goto the menu"
   ]
  },
  {
   "cell_type": "markdown",
   "metadata": {},
   "source": [
    "# CODE"
   ]
  },
  {
   "cell_type": "code",
   "execution_count": null,
   "metadata": {},
   "outputs": [
    {
     "name": "stdout",
     "output_type": "stream",
     "text": [
      "welcome to the breath of naija\n",
      "Poundo & Edikaiko soup = [N5,500],Fried rice & chicken:[N6,000],Amala &Ewedusoup:[N4,500],Eba & Ewedu soup:[N4,000],white Rice & soup:[N4,500]\n"
     ]
    }
   ],
   "source": [
    "print(\"welcome to the breath of naija\")\n",
    "menu = (\"Poundo & Edikaiko soup = [N5,500],Fried rice & chicken:[N6,000],Amala &Ewedusoup:[N4,500],Eba & Ewedu soup:[N4,000],white Rice & soup:[N4,500]\")\n",
    "print (menu)\n",
    "name = input(\"what is your name please?\")\n",
    "item1 = input(\"which one would you like to buy?\")\n",
    "p1 = input (\"How many servings please?\")\n",
    "p2 = input (\"will that be all?\")\n",
    "if p2 == \"yes\":\n",
    "    print (\"Thank you for your patronage\")\n",
    "elif item1 > 1000 :\n",
    "    print (\"10% discounted\")\n",
    "elif item1 > 1000 < 15000 : \n",
    "    print (\"15% discounted\")\n",
    "elif item1 > 15000 :   \n",
    "    print (\"25% discounted\")\n",
    "\n"
   ]
  },
  {
   "cell_type": "markdown",
   "metadata": {},
   "source": [
    "# QUESTION 2"
   ]
  },
  {
   "cell_type": "markdown",
   "metadata": {},
   "source": [
    "## PSEUDOCODE"
   ]
  },
  {
   "cell_type": "code",
   "execution_count": null,
   "metadata": {},
   "outputs": [],
   "source": [
    "# START \"WELCOME TO THE ACCESSMENT PROGRAM\"\n",
    "# PROCCESS \"LISTS THE ASSESSEMENT RECORD \"\n",
    "# PROCESS SHOWS THE EXCEL TABLE \n",
    "# IF AR < 40\n",
    "# GIVE 1 POINT\n",
    "# ELIF AR > 499 < 60\n",
    "# GIVE 3 POINTS \n",
    "# ELIF AR > 59 <70\n",
    "# GIVE 4 POINTS \n",
    "# ELIF AR >69\n",
    "# GIVE 5 POINTS \n",
    "# END"
   ]
  }
 ],
 "metadata": {
  "kernelspec": {
   "display_name": "Python 3",
   "language": "python",
   "name": "python3"
  },
  "language_info": {
   "codemirror_mode": {
    "name": "ipython",
    "version": 3
   },
   "file_extension": ".py",
   "mimetype": "text/x-python",
   "name": "python",
   "nbconvert_exporter": "python",
   "pygments_lexer": "ipython3",
   "version": "3.8.3"
  }
 },
 "nbformat": 4,
 "nbformat_minor": 4
}
