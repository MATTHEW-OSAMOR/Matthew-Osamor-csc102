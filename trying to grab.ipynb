{
 "cells": [
  {
   "cell_type": "code",
   "execution_count": 9,
   "id": "c10767c1",
   "metadata": {},
   "outputs": [],
   "source": [
    "#Abstraction shii\n",
    "from abc import ABC\n",
    "\n",
    "class Kings(ABC):\n",
    "    pass"
   ]
  },
  {
   "cell_type": "code",
   "execution_count": 21,
   "id": "dccf01a6",
   "metadata": {},
   "outputs": [
    {
     "name": "stdout",
     "output_type": "stream",
     "text": [
      "Car verion is: Sedan\n"
     ]
    },
    {
     "data": {
      "text/plain": [
       "<__main__.car at 0x21430bd2c40>"
      ]
     },
     "execution_count": 21,
     "metadata": {},
     "output_type": "execute_result"
    }
   ],
   "source": [
    "from abc import ABC, abstractmethod\n",
    "\n",
    "class car(ABC):\n",
    "    def versions(self,version):\n",
    "        print(\"Car verion is:\", version)\n",
    "    pass\n",
    "r = car()\n",
    "r.versions(\"Sedan\")\n",
    "r"
   ]
  },
  {
   "cell_type": "code",
   "execution_count": 1,
   "id": "00d7397d",
   "metadata": {},
   "outputs": [
    {
     "name": "stdout",
     "output_type": "stream",
     "text": [
      "1 "
     ]
    }
   ],
   "source": [
    "S = range(2,4,2)\n",
    "T = range(1,4,9)\n",
    "\n",
    "for x in S:\n",
    "    for y in T:\n",
    "        print(y, end=\" \")"
   ]
  },
  {
   "cell_type": "code",
   "execution_count": 2,
   "id": "77b0df96",
   "metadata": {},
   "outputs": [
    {
     "name": "stdout",
     "output_type": "stream",
     "text": [
      "1 and 3\n",
      "1 and 4\n",
      "1 and 5\n",
      "2 and 3\n",
      "2 and 4\n",
      "2 and 5\n",
      "3 and 3\n",
      "3 and 4\n",
      "3 and 5\n"
     ]
    }
   ],
   "source": [
    "for x in range(1,4):\n",
    "    for y in range(3,6):\n",
    "        print(x, 'and',y)"
   ]
  },
  {
   "cell_type": "code",
   "execution_count": 3,
   "id": "3737a57b",
   "metadata": {},
   "outputs": [
    {
     "name": "stdout",
     "output_type": "stream",
     "text": [
      "1\n",
      "4\n",
      "7\n"
     ]
    }
   ],
   "source": [
    "num = 1\n",
    "while num<10:\n",
    "    print(num)\n",
    "    num=num+3"
   ]
  },
  {
   "cell_type": "code",
   "execution_count": 5,
   "id": "c834fa41",
   "metadata": {},
   "outputs": [
    {
     "data": {
      "text/plain": [
       "205"
      ]
     },
     "execution_count": 5,
     "metadata": {},
     "output_type": "execute_result"
    }
   ],
   "source": [
    "n = 5\n",
    "n += 200\n",
    "n"
   ]
  },
  {
   "cell_type": "code",
   "execution_count": null,
   "id": "bd31558d",
   "metadata": {},
   "outputs": [],
   "source": []
  },
  {
   "cell_type": "code",
   "execution_count": null,
   "id": "548c4166",
   "metadata": {},
   "outputs": [],
   "source": []
  },
  {
   "cell_type": "code",
   "execution_count": 8,
   "id": "3e7d58c3",
   "metadata": {},
   "outputs": [],
   "source": [
    "def abstractCalling():\n",
    "    passa"
   ]
  }
 ],
 "metadata": {
  "kernelspec": {
   "display_name": "Python 3 (ipykernel)",
   "language": "python",
   "name": "python3"
  },
  "language_info": {
   "codemirror_mode": {
    "name": "ipython",
    "version": 3
   },
   "file_extension": ".py",
   "mimetype": "text/x-python",
   "name": "python",
   "nbconvert_exporter": "python",
   "pygments_lexer": "ipython3",
   "version": "3.9.12"
  }
 },
 "nbformat": 4,
 "nbformat_minor": 5
}
