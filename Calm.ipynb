{
 "cells": [
  {
   "cell_type": "code",
   "execution_count": 1,
   "id": "f4d25c87",
   "metadata": {},
   "outputs": [
    {
     "name": "stdout",
     "output_type": "stream",
     "text": [
      "Requirement already satisfied: numpy in c:\\users\\testimony\\anaconda3\\lib\\site-packages (1.20.3)\n",
      "Note: you may need to restart the kernel to use updated packages.\n"
     ]
    }
   ],
   "source": [
    "pip install numpy"
   ]
  },
  {
   "cell_type": "code",
   "execution_count": 8,
   "id": "ba1a0dc6",
   "metadata": {},
   "outputs": [
    {
     "name": "stdout",
     "output_type": "stream",
     "text": [
      "['akin' 'banger' 'what' 'imwasted' 'thedinogame']\n",
      "['akin', 'banger', 'what', 'imwasted', 'thedinogame']\n",
      "im not gay my nigga\n",
      "1\n"
     ]
    },
    {
     "name": "stderr",
     "output_type": "stream",
     "text": [
      "C:\\Users\\TESTIM~1\\AppData\\Local\\Temp/ipykernel_5612/2939636236.py:8: FutureWarning: elementwise comparison failed; returning scalar instead, but in the future will perform elementwise comparison\n",
      "  if (k_1 == 1):\n"
     ]
    }
   ],
   "source": [
    "import numpy as np\n",
    "k = ['akin', 'banger', 'what', 'imwasted', 'thedinogame']\n",
    "\n",
    "k_1 = np.array(k)\n",
    "print(k_1)\n",
    "print(k)\n",
    "\n",
    "if (k_1 == 1):\n",
    "    print(\"im gay\")\n",
    "else:\n",
    "    print('im not gay my nigga')\n",
    "print(k_1.ndim)"
   ]
  }
 ],
 "metadata": {
  "kernelspec": {
   "display_name": "Python 3 (ipykernel)",
   "language": "python",
   "name": "python3"
  },
  "language_info": {
   "codemirror_mode": {
    "name": "ipython",
    "version": 3
   },
   "file_extension": ".py",
   "mimetype": "text/x-python",
   "name": "python",
   "nbconvert_exporter": "python",
   "pygments_lexer": "ipython3",
   "version": "3.9.7"
  }
 },
 "nbformat": 4,
 "nbformat_minor": 5
}
